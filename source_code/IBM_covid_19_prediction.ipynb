{
  "nbformat": 4,
  "nbformat_minor": 0,
  "metadata": {
    "colab": {
      "provenance": [],
      "gpuType": "T4"
    },
    "kernelspec": {
      "name": "python3",
      "display_name": "Python 3"
    },
    "language_info": {
      "name": "python"
    },
    "accelerator": "GPU",
    "gpuClass": "standard"
  },
  "cells": [
    {
      "cell_type": "code",
      "source": [
        "pwd"
      ],
      "metadata": {
        "colab": {
          "base_uri": "https://localhost:8080/",
          "height": 35
        },
        "id": "QCBooCTMBo_e",
        "outputId": "0a25fd30-fd88-4709-ff84-d2cd5ca6a686"
      },
      "execution_count": 1,
      "outputs": [
        {
          "output_type": "execute_result",
          "data": {
            "text/plain": [
              "'/content'"
            ],
            "application/vnd.google.colaboratory.intrinsic+json": {
              "type": "string"
            }
          },
          "metadata": {},
          "execution_count": 1
        }
      ]
    },
    {
      "cell_type": "code",
      "source": [
        "import os\n",
        "import shutil\n",
        "import zipfile\n",
        "import random\n",
        "import csv\n",
        "import numpy as np\n",
        "import pandas as pd\n",
        "import tensorflow as tf\n",
        "from tensorflow import keras\n",
        "from keras.models import load_model\n",
        "from sklearn import preprocessing\n",
        "from tensorflow.keras.preprocessing import image\n",
        "from sklearn.model_selection import train_test_split\n",
        "from sklearn.preprocessing import LabelEncoder\n",
        "from keras.models import Sequential\n",
        "from keras.layers import Conv2D, MaxPooling2D, Flatten, Dense\n",
        "from tqdm import tqdm\n",
        "import matplotlib.pyplot as plt\n",
        "from PIL import Image\n",
        "import cv2\n",
        "from tensorflow.keras.applications.xception import preprocess_input\n",
        "from tensorflow.keras.preprocessing import image\n",
        "import numpy as np\n",
        "\n"
      ],
      "metadata": {
        "id": "PQcobtMdBpCv"
      },
      "execution_count": 2,
      "outputs": []
    },
    {
      "cell_type": "code",
      "source": [
        "cd /content/drive/MyDrive/BL"
      ],
      "metadata": {
        "colab": {
          "base_uri": "https://localhost:8080/"
        },
        "id": "iCSTYs-RBpFS",
        "outputId": "89b0f12e-c67e-4c4e-fdac-050e8529c629"
      },
      "execution_count": 3,
      "outputs": [
        {
          "output_type": "stream",
          "name": "stdout",
          "text": [
            "/content/drive/MyDrive/BL\n"
          ]
        }
      ]
    },
    {
      "cell_type": "code",
      "source": [
        "# Loading the model"
      ],
      "metadata": {
        "id": "Du9jQXHjKQmO"
      },
      "execution_count": 4,
      "outputs": []
    },
    {
      "cell_type": "markdown",
      "source": [
        "# Loading the Model"
      ],
      "metadata": {
        "id": "6W91faN2KUlL"
      }
    },
    {
      "cell_type": "code",
      "source": [
        "loaded_model = load_model('xception_covid.h5')"
      ],
      "metadata": {
        "id": "lNg7LPblBpIm"
      },
      "execution_count": 5,
      "outputs": []
    },
    {
      "cell_type": "code",
      "source": [
        "loaded_model.save('xception_covid.h5')\n",
        "\n",
        "\n",
        "!tar -zcvf ibm_covid_prediction.tgz  xception_covid.h5"
      ],
      "metadata": {
        "colab": {
          "base_uri": "https://localhost:8080/"
        },
        "id": "Z6d33kr5BpLu",
        "outputId": "7a3f9ebd-9aa3-42b1-cf6e-02335d7bcd61"
      },
      "execution_count": 6,
      "outputs": [
        {
          "output_type": "stream",
          "name": "stdout",
          "text": [
            "xception_covid.h5\n"
          ]
        }
      ]
    },
    {
      "cell_type": "code",
      "source": [
        "!pip install watson-machine-learning-client"
      ],
      "metadata": {
        "colab": {
          "base_uri": "https://localhost:8080/"
        },
        "id": "kWBxLbolBpOY",
        "outputId": "ade837de-0f4f-4745-ef16-7b7966effb66"
      },
      "execution_count": 27,
      "outputs": [
        {
          "output_type": "stream",
          "name": "stdout",
          "text": [
            "Looking in indexes: https://pypi.org/simple, https://us-python.pkg.dev/colab-wheels/public/simple/\n",
            "Requirement already satisfied: watson-machine-learning-client in /usr/local/lib/python3.10/dist-packages (1.0.391)\n",
            "Requirement already satisfied: requests in /usr/local/lib/python3.10/dist-packages (from watson-machine-learning-client) (2.30.0)\n",
            "Requirement already satisfied: urllib3 in /usr/local/lib/python3.10/dist-packages (from watson-machine-learning-client) (1.26.15)\n",
            "Requirement already satisfied: pandas in /usr/local/lib/python3.10/dist-packages (from watson-machine-learning-client) (1.5.3)\n",
            "Requirement already satisfied: certifi in /usr/local/lib/python3.10/dist-packages (from watson-machine-learning-client) (2022.12.7)\n",
            "Requirement already satisfied: tqdm in /usr/local/lib/python3.10/dist-packages (from watson-machine-learning-client) (4.65.0)\n",
            "Requirement already satisfied: lomond in /usr/local/lib/python3.10/dist-packages (from watson-machine-learning-client) (0.3.3)\n",
            "Requirement already satisfied: tabulate in /usr/local/lib/python3.10/dist-packages (from watson-machine-learning-client) (0.8.10)\n",
            "Requirement already satisfied: ibm-cos-sdk in /usr/local/lib/python3.10/dist-packages (from watson-machine-learning-client) (2.13.0)\n",
            "Requirement already satisfied: boto3 in /usr/local/lib/python3.10/dist-packages (from watson-machine-learning-client) (1.26.137)\n",
            "Requirement already satisfied: botocore<1.30.0,>=1.29.137 in /usr/local/lib/python3.10/dist-packages (from boto3->watson-machine-learning-client) (1.29.137)\n",
            "Requirement already satisfied: jmespath<2.0.0,>=0.7.1 in /usr/local/lib/python3.10/dist-packages (from boto3->watson-machine-learning-client) (1.0.1)\n",
            "Requirement already satisfied: s3transfer<0.7.0,>=0.6.0 in /usr/local/lib/python3.10/dist-packages (from boto3->watson-machine-learning-client) (0.6.1)\n",
            "Requirement already satisfied: ibm-cos-sdk-core==2.13.0 in /usr/local/lib/python3.10/dist-packages (from ibm-cos-sdk->watson-machine-learning-client) (2.13.0)\n",
            "Requirement already satisfied: ibm-cos-sdk-s3transfer==2.13.0 in /usr/local/lib/python3.10/dist-packages (from ibm-cos-sdk->watson-machine-learning-client) (2.13.0)\n",
            "Requirement already satisfied: python-dateutil<3.0.0,>=2.8.2 in /usr/local/lib/python3.10/dist-packages (from ibm-cos-sdk-core==2.13.0->ibm-cos-sdk->watson-machine-learning-client) (2.8.2)\n",
            "Requirement already satisfied: charset-normalizer<4,>=2 in /usr/local/lib/python3.10/dist-packages (from requests->watson-machine-learning-client) (2.0.12)\n",
            "Requirement already satisfied: idna<4,>=2.5 in /usr/local/lib/python3.10/dist-packages (from requests->watson-machine-learning-client) (3.4)\n",
            "Requirement already satisfied: six>=1.10.0 in /usr/local/lib/python3.10/dist-packages (from lomond->watson-machine-learning-client) (1.16.0)\n",
            "Requirement already satisfied: pytz>=2020.1 in /usr/local/lib/python3.10/dist-packages (from pandas->watson-machine-learning-client) (2022.7.1)\n",
            "Requirement already satisfied: numpy>=1.21.0 in /usr/local/lib/python3.10/dist-packages (from pandas->watson-machine-learning-client) (1.22.4)\n"
          ]
        }
      ]
    },
    {
      "cell_type": "code",
      "source": [
        "!pip install watson-machine-learning-client"
      ],
      "metadata": {
        "colab": {
          "base_uri": "https://localhost:8080/"
        },
        "id": "IyWddYjlOoLe",
        "outputId": "728287c9-b08a-429d-c792-f4e1f3be4b0c"
      },
      "execution_count": 28,
      "outputs": [
        {
          "output_type": "stream",
          "name": "stdout",
          "text": [
            "Looking in indexes: https://pypi.org/simple, https://us-python.pkg.dev/colab-wheels/public/simple/\n",
            "Requirement already satisfied: watson-machine-learning-client in /usr/local/lib/python3.10/dist-packages (1.0.391)\n",
            "Requirement already satisfied: requests in /usr/local/lib/python3.10/dist-packages (from watson-machine-learning-client) (2.30.0)\n",
            "Requirement already satisfied: urllib3 in /usr/local/lib/python3.10/dist-packages (from watson-machine-learning-client) (1.26.15)\n",
            "Requirement already satisfied: pandas in /usr/local/lib/python3.10/dist-packages (from watson-machine-learning-client) (1.5.3)\n",
            "Requirement already satisfied: certifi in /usr/local/lib/python3.10/dist-packages (from watson-machine-learning-client) (2022.12.7)\n",
            "Requirement already satisfied: tqdm in /usr/local/lib/python3.10/dist-packages (from watson-machine-learning-client) (4.65.0)\n",
            "Requirement already satisfied: lomond in /usr/local/lib/python3.10/dist-packages (from watson-machine-learning-client) (0.3.3)\n",
            "Requirement already satisfied: tabulate in /usr/local/lib/python3.10/dist-packages (from watson-machine-learning-client) (0.8.10)\n",
            "Requirement already satisfied: ibm-cos-sdk in /usr/local/lib/python3.10/dist-packages (from watson-machine-learning-client) (2.13.0)\n",
            "Requirement already satisfied: boto3 in /usr/local/lib/python3.10/dist-packages (from watson-machine-learning-client) (1.26.137)\n",
            "Requirement already satisfied: botocore<1.30.0,>=1.29.137 in /usr/local/lib/python3.10/dist-packages (from boto3->watson-machine-learning-client) (1.29.137)\n",
            "Requirement already satisfied: jmespath<2.0.0,>=0.7.1 in /usr/local/lib/python3.10/dist-packages (from boto3->watson-machine-learning-client) (1.0.1)\n",
            "Requirement already satisfied: s3transfer<0.7.0,>=0.6.0 in /usr/local/lib/python3.10/dist-packages (from boto3->watson-machine-learning-client) (0.6.1)\n",
            "Requirement already satisfied: ibm-cos-sdk-core==2.13.0 in /usr/local/lib/python3.10/dist-packages (from ibm-cos-sdk->watson-machine-learning-client) (2.13.0)\n",
            "Requirement already satisfied: ibm-cos-sdk-s3transfer==2.13.0 in /usr/local/lib/python3.10/dist-packages (from ibm-cos-sdk->watson-machine-learning-client) (2.13.0)\n",
            "Requirement already satisfied: python-dateutil<3.0.0,>=2.8.2 in /usr/local/lib/python3.10/dist-packages (from ibm-cos-sdk-core==2.13.0->ibm-cos-sdk->watson-machine-learning-client) (2.8.2)\n",
            "Requirement already satisfied: charset-normalizer<4,>=2 in /usr/local/lib/python3.10/dist-packages (from requests->watson-machine-learning-client) (2.0.12)\n",
            "Requirement already satisfied: idna<4,>=2.5 in /usr/local/lib/python3.10/dist-packages (from requests->watson-machine-learning-client) (3.4)\n",
            "Requirement already satisfied: six>=1.10.0 in /usr/local/lib/python3.10/dist-packages (from lomond->watson-machine-learning-client) (1.16.0)\n",
            "Requirement already satisfied: pytz>=2020.1 in /usr/local/lib/python3.10/dist-packages (from pandas->watson-machine-learning-client) (2022.7.1)\n",
            "Requirement already satisfied: numpy>=1.21.0 in /usr/local/lib/python3.10/dist-packages (from pandas->watson-machine-learning-client) (1.22.4)\n"
          ]
        }
      ]
    },
    {
      "cell_type": "code",
      "source": [
        "\n",
        "!pip install ibm_watson_machine_learning\n",
        "     "
      ],
      "metadata": {
        "colab": {
          "base_uri": "https://localhost:8080/"
        },
        "id": "3SK82K2kPUYb",
        "outputId": "ada44122-894c-4f50-ab09-804643c80af5"
      },
      "execution_count": 29,
      "outputs": [
        {
          "output_type": "stream",
          "name": "stdout",
          "text": [
            "Looking in indexes: https://pypi.org/simple, https://us-python.pkg.dev/colab-wheels/public/simple/\n",
            "Requirement already satisfied: ibm_watson_machine_learning in /usr/local/lib/python3.10/dist-packages (1.0.302)\n",
            "Requirement already satisfied: requests in /usr/local/lib/python3.10/dist-packages (from ibm_watson_machine_learning) (2.30.0)\n",
            "Requirement already satisfied: urllib3 in /usr/local/lib/python3.10/dist-packages (from ibm_watson_machine_learning) (1.26.15)\n",
            "Requirement already satisfied: pandas<1.6.0,>=0.24.2 in /usr/local/lib/python3.10/dist-packages (from ibm_watson_machine_learning) (1.5.3)\n",
            "Requirement already satisfied: certifi in /usr/local/lib/python3.10/dist-packages (from ibm_watson_machine_learning) (2022.12.7)\n",
            "Requirement already satisfied: lomond in /usr/local/lib/python3.10/dist-packages (from ibm_watson_machine_learning) (0.3.3)\n",
            "Requirement already satisfied: tabulate in /usr/local/lib/python3.10/dist-packages (from ibm_watson_machine_learning) (0.8.10)\n",
            "Requirement already satisfied: packaging in /usr/local/lib/python3.10/dist-packages (from ibm_watson_machine_learning) (23.1)\n",
            "Requirement already satisfied: importlib-metadata in /usr/local/lib/python3.10/dist-packages (from ibm_watson_machine_learning) (6.6.0)\n",
            "Requirement already satisfied: ibm-cos-sdk<2.14.0,>=2.12.0 in /usr/local/lib/python3.10/dist-packages (from ibm_watson_machine_learning) (2.13.0)\n",
            "Requirement already satisfied: ibm-cos-sdk-core==2.13.0 in /usr/local/lib/python3.10/dist-packages (from ibm-cos-sdk<2.14.0,>=2.12.0->ibm_watson_machine_learning) (2.13.0)\n",
            "Requirement already satisfied: ibm-cos-sdk-s3transfer==2.13.0 in /usr/local/lib/python3.10/dist-packages (from ibm-cos-sdk<2.14.0,>=2.12.0->ibm_watson_machine_learning) (2.13.0)\n",
            "Requirement already satisfied: jmespath<=1.0.1,>=0.10.0 in /usr/local/lib/python3.10/dist-packages (from ibm-cos-sdk<2.14.0,>=2.12.0->ibm_watson_machine_learning) (1.0.1)\n",
            "Requirement already satisfied: python-dateutil<3.0.0,>=2.8.2 in /usr/local/lib/python3.10/dist-packages (from ibm-cos-sdk-core==2.13.0->ibm-cos-sdk<2.14.0,>=2.12.0->ibm_watson_machine_learning) (2.8.2)\n",
            "Requirement already satisfied: pytz>=2020.1 in /usr/local/lib/python3.10/dist-packages (from pandas<1.6.0,>=0.24.2->ibm_watson_machine_learning) (2022.7.1)\n",
            "Requirement already satisfied: numpy>=1.21.0 in /usr/local/lib/python3.10/dist-packages (from pandas<1.6.0,>=0.24.2->ibm_watson_machine_learning) (1.22.4)\n",
            "Requirement already satisfied: charset-normalizer<4,>=2 in /usr/local/lib/python3.10/dist-packages (from requests->ibm_watson_machine_learning) (2.0.12)\n",
            "Requirement already satisfied: idna<4,>=2.5 in /usr/local/lib/python3.10/dist-packages (from requests->ibm_watson_machine_learning) (3.4)\n",
            "Requirement already satisfied: zipp>=0.5 in /usr/local/lib/python3.10/dist-packages (from importlib-metadata->ibm_watson_machine_learning) (3.15.0)\n",
            "Requirement already satisfied: six>=1.10.0 in /usr/local/lib/python3.10/dist-packages (from lomond->ibm_watson_machine_learning) (1.16.0)\n"
          ]
        }
      ]
    },
    {
      "cell_type": "code",
      "source": [
        "\n",
        "from ibm_watson_machine_learning import APIClient\n",
        "\n",
        "wml_credentials = {\n",
        "    \"url\":\"https://us-south.ml.cloud.ibm.com\",\n",
        "    \"apikey\":\"ToLs9CHbNLXNFUrM8Rv954IYUoEq-mE7DYnxfVqBBgB_\"\n",
        "}\n",
        "     "
      ],
      "metadata": {
        "id": "OxcxBgpjPt6u"
      },
      "execution_count": 46,
      "outputs": []
    },
    {
      "cell_type": "code",
      "source": [
        "client = APIClient(wml_credentials)"
      ],
      "metadata": {
        "id": "3elnigTMP0Ru"
      },
      "execution_count": 47,
      "outputs": []
    },
    {
      "cell_type": "code",
      "source": [
        "client"
      ],
      "metadata": {
        "colab": {
          "base_uri": "https://localhost:8080/"
        },
        "id": "zo0U1C9OP0UJ",
        "outputId": "e6ef461c-8d3c-4d50-f115-ec2148905275"
      },
      "execution_count": 48,
      "outputs": [
        {
          "output_type": "execute_result",
          "data": {
            "text/plain": [
              "<ibm_watson_machine_learning.client.APIClient at 0x7f4267ea3dc0>"
            ]
          },
          "metadata": {},
          "execution_count": 48
        }
      ]
    },
    {
      "cell_type": "code",
      "source": [
        "\n",
        "client.spaces.get_details()"
      ],
      "metadata": {
        "colab": {
          "base_uri": "https://localhost:8080/"
        },
        "id": "YnXUbRDeP0Wj",
        "outputId": "068d656e-e843-4e0b-f318-b4b5cde9f54f"
      },
      "execution_count": 49,
      "outputs": [
        {
          "output_type": "execute_result",
          "data": {
            "text/plain": [
              "{'resources': [{'entity': {'description': '',\n",
              "    'name': 'Covid',\n",
              "    'scope': {'bss_account_id': 'daa88c6792d74da8bf74a7978080ffd0'},\n",
              "    'stage': {'production': False},\n",
              "    'status': {'state': 'active'},\n",
              "    'storage': {'properties': {'bucket_name': '1e6e664e-0f5b-4269-a04a-f403d97a3543',\n",
              "      'bucket_region': 'us-south',\n",
              "      'credentials': {'admin': {'access_key_id': '859445b41e794d60ba860e2cba14a47c',\n",
              "        'api_key': 'GD6bU_rC4KpOTqthvcUrkFSqzGu0HOilX4NDmSWOzNv8',\n",
              "        'secret_access_key': '62c5f9c11fa8a72d64d217e9910351112a4bcb0ad5cc2d6f',\n",
              "        'service_id': 'ServiceId-2e552a13-1fc3-4ca9-872c-32eeb2ca8391'},\n",
              "       'editor': {'access_key_id': '42dc112c06114c26ba1e6a5dd608bb0f',\n",
              "        'api_key': 'swVUfdf2jC1BInDuHaYeNneRCwUOvVXF7UwhgEPZ1cUl',\n",
              "        'resource_key_crn': 'crn:v1:bluemix:public:cloud-object-storage:global:a/daa88c6792d74da8bf74a7978080ffd0:cd8572ee-7992-47d6-a8b3-e4644d997762::',\n",
              "        'secret_access_key': '710e112c5966b36c1cd8073d34fa6ab8fbb202b726c5b1fe',\n",
              "        'service_id': 'ServiceId-d2f45b52-5fb4-4c59-8e2c-315f264289ed'},\n",
              "       'viewer': {'access_key_id': '720d6425ffe144c7b9b2e55896b1bad0',\n",
              "        'api_key': 'm9_i2NkfxZc3JUkWUhEOxV4dsC7VSEYs4vEWSwKfA_it',\n",
              "        'resource_key_crn': 'crn:v1:bluemix:public:cloud-object-storage:global:a/daa88c6792d74da8bf74a7978080ffd0:cd8572ee-7992-47d6-a8b3-e4644d997762::',\n",
              "        'secret_access_key': 'aea6b16491d765f2b4c94feadbb44d0f385fa3d3a4f97916',\n",
              "        'service_id': 'ServiceId-b72fd0a0-a943-4f9b-af2e-347ef0ac4f23'}},\n",
              "      'endpoint_url': 'https://s3.us-south.cloud-object-storage.appdomain.cloud',\n",
              "      'guid': 'cd8572ee-7992-47d6-a8b3-e4644d997762',\n",
              "      'resource_crn': 'crn:v1:bluemix:public:cloud-object-storage:global:a/daa88c6792d74da8bf74a7978080ffd0:cd8572ee-7992-47d6-a8b3-e4644d997762::'},\n",
              "     'type': 'bmcos_object_storage'}},\n",
              "   'metadata': {'created_at': '2023-05-20T03:16:25.859Z',\n",
              "    'creator_id': 'IBMid-6650032SQ9',\n",
              "    'id': 'f2ca1b9e-59a5-4455-90f8-68577f5851f9',\n",
              "    'updated_at': '2023-05-20T03:16:42.916Z',\n",
              "    'url': '/v2/spaces/f2ca1b9e-59a5-4455-90f8-68577f5851f9'}},\n",
              "  {'entity': {'compute': [{'crn': 'crn:v1:bluemix:public:pm-20:us-south:a/daa88c6792d74da8bf74a7978080ffd0:151bdd1f-1c55-4f7f-a7f0-1abba93d8def::',\n",
              "      'guid': '151bdd1f-1c55-4f7f-a7f0-1abba93d8def',\n",
              "      'name': 'Watson Machine Learning-oz',\n",
              "      'type': 'machine_learning'}],\n",
              "    'description': '',\n",
              "    'name': 'covid',\n",
              "    'scope': {'bss_account_id': 'daa88c6792d74da8bf74a7978080ffd0'},\n",
              "    'stage': {'production': False},\n",
              "    'status': {'state': 'active'},\n",
              "    'storage': {'properties': {'bucket_name': '88e46c01-6b8d-4cad-93c2-8783375776c2',\n",
              "      'bucket_region': 'us-south',\n",
              "      'credentials': {'admin': {'access_key_id': '7dc15b7cb50b40ee8facc2caa2f36e0f',\n",
              "        'api_key': '_CT4PS2kimCVckHjngbfbMSRdCrg4J4kvi4SP88TP63Q',\n",
              "        'secret_access_key': '90547ebb1d27ae0a0569195e38e08994faeff24ac781d805',\n",
              "        'service_id': 'ServiceId-23824183-f484-49b0-a454-17b471ce6b4a'},\n",
              "       'editor': {'access_key_id': 'bfeac993d1e44232bb3199bc54083e98',\n",
              "        'api_key': 'hCSnnFWJ_sSF1Zi_OncvYnK6FZcm0zkW4ZCOoG_wcoFQ',\n",
              "        'resource_key_crn': 'crn:v1:bluemix:public:cloud-object-storage:global:a/daa88c6792d74da8bf74a7978080ffd0:cd8572ee-7992-47d6-a8b3-e4644d997762::',\n",
              "        'secret_access_key': '5f8f9517ee2f80e50b2e9da9f3b9109f735e4e7553942e4b',\n",
              "        'service_id': 'ServiceId-212bef07-c7a4-4767-8d85-f1860619ec0b'},\n",
              "       'viewer': {'access_key_id': 'b94fb8c2a2a247358b0d25adfd7d5ca1',\n",
              "        'api_key': 'oavXmKJsuq0TvCJPdJBaaNsrAY-wb_soC-jbHRTTCAoX',\n",
              "        'resource_key_crn': 'crn:v1:bluemix:public:cloud-object-storage:global:a/daa88c6792d74da8bf74a7978080ffd0:cd8572ee-7992-47d6-a8b3-e4644d997762::',\n",
              "        'secret_access_key': 'c24af1f095f68245cb2d44623491102809d4a51e4f4631d4',\n",
              "        'service_id': 'ServiceId-653ee9a0-938a-403c-a5b4-821aaf8e24ab'}},\n",
              "      'endpoint_url': 'https://s3.us-south.cloud-object-storage.appdomain.cloud',\n",
              "      'guid': 'cd8572ee-7992-47d6-a8b3-e4644d997762',\n",
              "      'resource_crn': 'crn:v1:bluemix:public:cloud-object-storage:global:a/daa88c6792d74da8bf74a7978080ffd0:cd8572ee-7992-47d6-a8b3-e4644d997762::'},\n",
              "     'type': 'bmcos_object_storage'}},\n",
              "   'metadata': {'created_at': '2023-05-20T09:16:40.800Z',\n",
              "    'creator_id': 'IBMid-6650032SQ9',\n",
              "    'id': '7fa55e43-82b9-4412-8b74-6abc70fc3aec',\n",
              "    'updated_at': '2023-05-20T09:16:54.382Z',\n",
              "    'url': '/v2/spaces/7fa55e43-82b9-4412-8b74-6abc70fc3aec'}}]}"
            ]
          },
          "metadata": {},
          "execution_count": 49
        }
      ]
    },
    {
      "cell_type": "code",
      "source": [
        "client.spaces.list()"
      ],
      "metadata": {
        "colab": {
          "base_uri": "https://localhost:8080/",
          "height": 216
        },
        "id": "kyaXkjD3P0Zq",
        "outputId": "f3c89b0d-62cd-4224-9545-23ee35de50ab"
      },
      "execution_count": 50,
      "outputs": [
        {
          "output_type": "stream",
          "name": "stdout",
          "text": [
            "Note: 'limit' is not provided. Only first 50 records will be displayed if the number of records exceed 50\n",
            "------------------------------------  -----  ------------------------\n",
            "ID                                    NAME   CREATED\n",
            "7fa55e43-82b9-4412-8b74-6abc70fc3aec  covid  2023-05-20T09:16:40.800Z\n",
            "f2ca1b9e-59a5-4455-90f8-68577f5851f9  Covid  2023-05-20T03:16:25.859Z\n",
            "------------------------------------  -----  ------------------------\n"
          ]
        },
        {
          "output_type": "execute_result",
          "data": {
            "text/plain": [
              "                                     ID   NAME                   CREATED\n",
              "0  7fa55e43-82b9-4412-8b74-6abc70fc3aec  covid  2023-05-20T09:16:40.800Z\n",
              "1  f2ca1b9e-59a5-4455-90f8-68577f5851f9  Covid  2023-05-20T03:16:25.859Z"
            ],
            "text/html": [
              "\n",
              "  <div id=\"df-d349aa48-c320-43ea-a077-10f341f2a53c\">\n",
              "    <div class=\"colab-df-container\">\n",
              "      <div>\n",
              "<style scoped>\n",
              "    .dataframe tbody tr th:only-of-type {\n",
              "        vertical-align: middle;\n",
              "    }\n",
              "\n",
              "    .dataframe tbody tr th {\n",
              "        vertical-align: top;\n",
              "    }\n",
              "\n",
              "    .dataframe thead th {\n",
              "        text-align: right;\n",
              "    }\n",
              "</style>\n",
              "<table border=\"1\" class=\"dataframe\">\n",
              "  <thead>\n",
              "    <tr style=\"text-align: right;\">\n",
              "      <th></th>\n",
              "      <th>ID</th>\n",
              "      <th>NAME</th>\n",
              "      <th>CREATED</th>\n",
              "    </tr>\n",
              "  </thead>\n",
              "  <tbody>\n",
              "    <tr>\n",
              "      <th>0</th>\n",
              "      <td>7fa55e43-82b9-4412-8b74-6abc70fc3aec</td>\n",
              "      <td>covid</td>\n",
              "      <td>2023-05-20T09:16:40.800Z</td>\n",
              "    </tr>\n",
              "    <tr>\n",
              "      <th>1</th>\n",
              "      <td>f2ca1b9e-59a5-4455-90f8-68577f5851f9</td>\n",
              "      <td>Covid</td>\n",
              "      <td>2023-05-20T03:16:25.859Z</td>\n",
              "    </tr>\n",
              "  </tbody>\n",
              "</table>\n",
              "</div>\n",
              "      <button class=\"colab-df-convert\" onclick=\"convertToInteractive('df-d349aa48-c320-43ea-a077-10f341f2a53c')\"\n",
              "              title=\"Convert this dataframe to an interactive table.\"\n",
              "              style=\"display:none;\">\n",
              "        \n",
              "  <svg xmlns=\"http://www.w3.org/2000/svg\" height=\"24px\"viewBox=\"0 0 24 24\"\n",
              "       width=\"24px\">\n",
              "    <path d=\"M0 0h24v24H0V0z\" fill=\"none\"/>\n",
              "    <path d=\"M18.56 5.44l.94 2.06.94-2.06 2.06-.94-2.06-.94-.94-2.06-.94 2.06-2.06.94zm-11 1L8.5 8.5l.94-2.06 2.06-.94-2.06-.94L8.5 2.5l-.94 2.06-2.06.94zm10 10l.94 2.06.94-2.06 2.06-.94-2.06-.94-.94-2.06-.94 2.06-2.06.94z\"/><path d=\"M17.41 7.96l-1.37-1.37c-.4-.4-.92-.59-1.43-.59-.52 0-1.04.2-1.43.59L10.3 9.45l-7.72 7.72c-.78.78-.78 2.05 0 2.83L4 21.41c.39.39.9.59 1.41.59.51 0 1.02-.2 1.41-.59l7.78-7.78 2.81-2.81c.8-.78.8-2.07 0-2.86zM5.41 20L4 18.59l7.72-7.72 1.47 1.35L5.41 20z\"/>\n",
              "  </svg>\n",
              "      </button>\n",
              "      \n",
              "  <style>\n",
              "    .colab-df-container {\n",
              "      display:flex;\n",
              "      flex-wrap:wrap;\n",
              "      gap: 12px;\n",
              "    }\n",
              "\n",
              "    .colab-df-convert {\n",
              "      background-color: #E8F0FE;\n",
              "      border: none;\n",
              "      border-radius: 50%;\n",
              "      cursor: pointer;\n",
              "      display: none;\n",
              "      fill: #1967D2;\n",
              "      height: 32px;\n",
              "      padding: 0 0 0 0;\n",
              "      width: 32px;\n",
              "    }\n",
              "\n",
              "    .colab-df-convert:hover {\n",
              "      background-color: #E2EBFA;\n",
              "      box-shadow: 0px 1px 2px rgba(60, 64, 67, 0.3), 0px 1px 3px 1px rgba(60, 64, 67, 0.15);\n",
              "      fill: #174EA6;\n",
              "    }\n",
              "\n",
              "    [theme=dark] .colab-df-convert {\n",
              "      background-color: #3B4455;\n",
              "      fill: #D2E3FC;\n",
              "    }\n",
              "\n",
              "    [theme=dark] .colab-df-convert:hover {\n",
              "      background-color: #434B5C;\n",
              "      box-shadow: 0px 1px 3px 1px rgba(0, 0, 0, 0.15);\n",
              "      filter: drop-shadow(0px 1px 2px rgba(0, 0, 0, 0.3));\n",
              "      fill: #FFFFFF;\n",
              "    }\n",
              "  </style>\n",
              "\n",
              "      <script>\n",
              "        const buttonEl =\n",
              "          document.querySelector('#df-d349aa48-c320-43ea-a077-10f341f2a53c button.colab-df-convert');\n",
              "        buttonEl.style.display =\n",
              "          google.colab.kernel.accessAllowed ? 'block' : 'none';\n",
              "\n",
              "        async function convertToInteractive(key) {\n",
              "          const element = document.querySelector('#df-d349aa48-c320-43ea-a077-10f341f2a53c');\n",
              "          const dataTable =\n",
              "            await google.colab.kernel.invokeFunction('convertToInteractive',\n",
              "                                                     [key], {});\n",
              "          if (!dataTable) return;\n",
              "\n",
              "          const docLinkHtml = 'Like what you see? Visit the ' +\n",
              "            '<a target=\"_blank\" href=https://colab.research.google.com/notebooks/data_table.ipynb>data table notebook</a>'\n",
              "            + ' to learn more about interactive tables.';\n",
              "          element.innerHTML = '';\n",
              "          dataTable['output_type'] = 'display_data';\n",
              "          await google.colab.output.renderOutput(dataTable, element);\n",
              "          const docLink = document.createElement('div');\n",
              "          docLink.innerHTML = docLinkHtml;\n",
              "          element.appendChild(docLink);\n",
              "        }\n",
              "      </script>\n",
              "    </div>\n",
              "  </div>\n",
              "  "
            ]
          },
          "metadata": {},
          "execution_count": 50
        }
      ]
    },
    {
      "cell_type": "code",
      "source": [
        "space_uid = \"7fa55e43-82b9-4412-8b74-6abc70fc3aec\"\n",
        "space_uid"
      ],
      "metadata": {
        "colab": {
          "base_uri": "https://localhost:8080/",
          "height": 35
        },
        "id": "wlaomCVtP0cU",
        "outputId": "478eaa89-52bc-4f8f-fd23-b85ac4586a26"
      },
      "execution_count": 51,
      "outputs": [
        {
          "output_type": "execute_result",
          "data": {
            "text/plain": [
              "'7fa55e43-82b9-4412-8b74-6abc70fc3aec'"
            ],
            "application/vnd.google.colaboratory.intrinsic+json": {
              "type": "string"
            }
          },
          "metadata": {},
          "execution_count": 51
        }
      ]
    },
    {
      "cell_type": "code",
      "source": [
        "client.set.default_space(space_uid)"
      ],
      "metadata": {
        "colab": {
          "base_uri": "https://localhost:8080/",
          "height": 35
        },
        "id": "UyD10cVBUeBh",
        "outputId": "a80b0a8c-844d-4280-dc69-8fe2a7a327ce"
      },
      "execution_count": 52,
      "outputs": [
        {
          "output_type": "execute_result",
          "data": {
            "text/plain": [
              "'SUCCESS'"
            ],
            "application/vnd.google.colaboratory.intrinsic+json": {
              "type": "string"
            }
          },
          "metadata": {},
          "execution_count": 52
        }
      ]
    },
    {
      "cell_type": "code",
      "source": [
        "client.software_specifications.list(200)"
      ],
      "metadata": {
        "colab": {
          "base_uri": "https://localhost:8080/",
          "height": 1000
        },
        "id": "1Nq0x887UeEy",
        "outputId": "dce9b2db-8deb-492c-911f-a282c2ff2538"
      },
      "execution_count": 63,
      "outputs": [
        {
          "output_type": "stream",
          "name": "stdout",
          "text": [
            "-------------------------------  ------------------------------------  ----  ------------------  --------------------------\n",
            "NAME                             ID                                    TYPE  STATE               REPLACEMENT\n",
            "default_py3.6                    0062b8c9-8b7d-44a0-a9b9-46c416adcbd9  base  unsupported         runtime-22.2-py3.10\n",
            "autoai-ts_rt23.1-py3.10          01ce9391-1a79-5a33-94fb-2e134337f314  base  not_provided\n",
            "kernel-spark3.2-scala2.12        020d69ce-7ac1-5e68-ac1a-31189867356a  base  not_provided\n",
            "pytorch-onnx_1.3-py3.7-edt       069ea134-3346-5748-b513-49120e15d288  base  not_provided\n",
            "tensorflow_rt23.1-py3.10         079a91e0-245f-5269-8926-3c20b28f37dc  base  not_provided\n",
            "scikit-learn_0.20-py3.6          09c5a1d0-9c1e-4473-a344-eb7b665ff687  base  unsupported         runtime-22.2-py3.10\n",
            "spark-mllib_3.0-scala_2.12       09f4cff0-90a7-5899-b9ed-1ef348aebdee  base  unsupported\n",
            "pytorch-onnx_rt22.1-py3.9        0b848dd4-e681-5599-be41-b5f6fccc6471  base  create-unsupported  pytorch-onnx_rt22.2-py3.10\n",
            "ai-function_0.1-py3.6            0cdb0f1e-5376-4f4d-92dd-da3b69aa9bda  base  unsupported         runtime-22.2-py3.10\n",
            "shiny-r3.6                       0e6e79df-875e-4f24-8ae9-62dcc2148306  base  not_provided\n",
            "tensorflow_2.4-py3.7-horovod     1092590a-307d-563d-9b62-4eb7d64b3f22  base  unsupported         tensorflow_rt22.2-py3.10\n",
            "pytorch_1.1-py3.6                10ac12d6-6b30-4ccd-8392-3e922c096a92  base  unsupported\n",
            "tensorflow_1.15-py3.6-ddl        111e41b3-de2d-5422-a4d6-bf776828c4b7  base  unsupported\n",
            "autoai-kb_rt22.2-py3.10          125b6d9a-5b1f-5e8d-972a-b251688ccf40  base  supported\n",
            "runtime-22.1-py3.9               12b83a17-24d8-5082-900f-0ab31fbfd3cb  base  create-unsupported  runtime-22.2-py3.10\n",
            "scikit-learn_0.22-py3.6          154010fa-5b3b-4ac1-82af-4d5ee5abbc85  base  unsupported         runtime-22.2-py3.10\n",
            "pytorch-onnx_rt23.1-py3.10       195067e6-4c5e-5fab-8bd0-e7623a88b4d3  base  not_provided\n",
            "default_r3.6                     1b70aec3-ab34-4b87-8aa0-a4a3c8296a36  base  deprecated\n",
            "pytorch-onnx_1.3-py3.6           1bc6029a-cc97-56da-b8e0-39c3880dbbe7  base  unsupported         runtime-22.2-py3.10\n",
            "kernel-spark3.3-r3.6             1c9e5454-f216-59dd-a20e-474a5cdf5988  base  not_provided\n",
            "tensorflow_2.1-py3.6             1eb25b84-d6ed-5dde-b6a5-3fbdf1665666  base  unsupported         runtime-22.2-py3.10\n",
            "spark-mllib_3.2                  20047f72-0a98-58c7-9ff5-a77b012eb8f5  base  unsupported         spark-mllib_3.3\n",
            "tensorflow_2.4-py3.8-horovod     217c16f6-178f-56bf-824a-b19f20564c49  base  unsupported         tensorflow_rt22.2-py3.10\n",
            "runtime-22.1-py3.9-cuda          26215f05-08c3-5a41-a1b0-da66306ce658  base  create-unsupported  runtime-22.2-py3.10-cuda\n",
            "do_py3.8                         295addb5-9ef9-547e-9bf4-92ae3563e720  base  not_provided\n",
            "autoai-ts_3.8-py3.8              2aa0c932-798f-5ae9-abd6-15e0c2402fb5  base  unsupported         autoai-ts_rt22.2-py3.10\n",
            "tensorflow_1.15-py3.6            2b73a275-7cbf-420b-a912-eae7f436e0bc  base  unsupported         runtime-22.2-py3.10\n",
            "kernel-spark3.3-py3.9            2b7961e2-e3b1-5a8c-a491-482c8368839a  base  not_provided\n",
            "pytorch_1.2-py3.6                2c8ef57d-2687-4b7d-acce-01f94976dac1  base  unsupported         runtime-22.2-py3.10\n",
            "spark-mllib_2.3                  2e51f700-bca0-4b0d-88dc-5c6791338875  base  create-unsupported  spark-mllib_3.3\n",
            "pytorch-onnx_1.1-py3.6-edt       32983cea-3f32-4400-8965-dde874a8d67e  base  unsupported\n",
            "spark-mllib_3.0-py37             36507ebe-8770-55ba-ab2a-eafe787600e9  base  unsupported         spark-mllib_3.3\n",
            "spark-mllib_2.4                  390d21f8-e58b-4fac-9c55-d7ceda621326  base  unsupported         spark-mllib_3.3\n",
            "autoai-ts_rt22.2-py3.10          396b2e83-0953-5b86-9a55-7ce1628a406f  base  supported\n",
            "xgboost_0.82-py3.6               39e31acd-5f30-41dc-ae44-60233c80306e  base  unsupported         runtime-22.2-py3.10\n",
            "pytorch-onnx_1.2-py3.6-edt       40589d0e-7019-4e28-8daa-fb03b6f4fe12  base  unsupported\n",
            "pytorch-onnx_rt22.2-py3.10       40e73f55-783a-5535-b3fa-0c8b94291431  base  supported\n",
            "default_r36py38                  41c247d3-45f8-5a71-b065-8580229facf0  base  not_provided\n",
            "autoai-ts_rt22.1-py3.9           4269d26e-07ba-5d40-8f66-2d495b0c71f7  base  create-unsupported  autoai-ts_rt22.2-py3.10\n",
            "autoai-obm_3.0                   42b92e18-d9ab-567f-988a-4240ba1ed5f7  base  unsupported         autoai-obm_3.2\n",
            "pmml-3.0_4.3                     493bcb95-16f1-5bc5-bee8-81b8af80e9c7  base  supported\n",
            "spark-mllib_2.4-r_3.6            49403dff-92e9-4c87-a3d7-a42d0021c095  base  unsupported         spark-mllib_3.3\n",
            "xgboost_0.90-py3.6               4ff8d6c2-1343-4c18-85e1-689c965304d3  base  unsupported         runtime-22.2-py3.10\n",
            "pytorch-onnx_1.1-py3.6           50f95b2a-bc16-43bb-bc94-b0bed208c60b  base  unsupported         runtime-22.2-py3.10\n",
            "autoai-ts_3.9-py3.8              52c57136-80fa-572e-8728-a5e7cbb42cde  base  unsupported         autoai-ts_rt22.2-py3.10\n",
            "spark-mllib_2.4-scala_2.11       55a70f99-7320-4be5-9fb9-9edb5a443af5  base  unsupported         spark-mllib_3.3\n",
            "spark-mllib_3.0                  5c1b0ca2-4977-5c2e-9439-ffd44ea8ffe9  base  unsupported         spark-mllib_3.3\n",
            "autoai-obm_2.0                   5c2e37fa-80b8-5e77-840f-d912469614ee  base  unsupported         autoai-obm_3.2\n",
            "spss-modeler_18.1                5c3cad7e-507f-4b2a-a9a3-ab53a21dee8b  base  supported\n",
            "cuda-py3.8                       5d3232bf-c86b-5df4-a2cd-7bb870a1cd4e  base  not_provided\n",
            "runtime-22.2-py3.10-xc           5e8cddff-db4a-5a6a-b8aa-2d4af9864dab  base  supported\n",
            "autoai-kb_3.1-py3.7              632d4b22-10aa-5180-88f0-f52dfb6444d7  base  unsupported         autoai-kb_rt22.2-py3.10\n",
            "pytorch-onnx_1.7-py3.8           634d3cdc-b562-5bf9-a2d4-ea90a478456b  base  unsupported         pytorch-onnx_rt22.2-py3.10\n",
            "kernel-spark3.3-r4.2             65691379-8334-5b81-9d22-a9b77b3c2f8b  base  not_provided\n",
            "spark-mllib_2.3-r_3.6            6586b9e3-ccd6-4f92-900f-0f8cb2bd6f0c  base  not_provided\n",
            "tensorflow_2.4-py3.7             65e171d7-72d1-55d9-8ebb-f813d620c9bb  base  unsupported         tensorflow_rt22.2-py3.10\n",
            "spss-modeler_18.2                687eddc9-028a-4117-b9dd-e57b36f1efa5  base  supported\n",
            "pytorch-onnx_1.2-py3.6           692a6a4d-2c4d-45ff-a1ed-b167ee55469a  base  unsupported         runtime-22.2-py3.10\n",
            "spark-mllib_2.3-scala_2.11       7963efe5-bbec-417e-92cf-0574e21b4e8d  base  not_provided\n",
            "spark-mllib_2.4-py37             7abc992b-b685-532b-a122-a396a3cdbaab  base  unsupported         spark-mllib_3.3\n",
            "caffe_1.0-py3.6                  7bb3dbe2-da6e-4145-918d-b6d84aa93b6b  base  unsupported\n",
            "pytorch-onnx_1.7-py3.7           812c6631-42b7-5613-982b-02098e6c909c  base  unsupported         pytorch-onnx_rt22.2-py3.10\n",
            "cuda-py3.6                       82c79ece-4d12-40e6-8787-a7b9e0f62770  base  unsupported\n",
            "tensorflow_1.15-py3.6-horovod    8964680e-d5e4-5bb8-919b-8342c6c0dfd8  base  unsupported\n",
            "hybrid_0.1                       8c1a58c6-62b5-4dc4-987a-df751c2756b6  base  supported\n",
            "pytorch-onnx_1.3-py3.7           8d5d8a87-a912-54cf-81ec-3914adaa988d  base  not_provided\n",
            "caffe-ibm_1.0-py3.6              8d863266-7927-4d1e-97d7-56a7f4c0a19b  base  unsupported\n",
            "runtime-22.2-py3.10-cuda         8ef391e4-ef58-5d46-b078-a82c211c1058  base  supported\n",
            "spss-modeler_17.1                902d0051-84bd-4af6-ab6b-8f6aa6fdeabb  base  supported\n",
            "do_12.10                         9100fd72-8159-4eb9-8a0b-a87e12eefa36  base  unsupported         do_20.1\n",
            "do_py3.7                         9447fa8b-2051-4d24-9eef-5acb0e3c59f8  base  not_provided\n",
            "spark-mllib_3.0-r_3.6            94bb6052-c837-589d-83f1-f4142f219e32  base  unsupported\n",
            "cuda-py3.7-opence                94e9652b-7f2d-59d5-ba5a-23a414ea488f  base  not_provided\n",
            "nlp-py3.8                        96e60351-99d4-5a1c-9cc0-473ac1b5a864  base  not_provided\n",
            "cuda-py3.7                       9a44990c-1aa1-4c7d-baf8-c4099011741c  base  not_provided\n",
            "hybrid_0.2                       9b3f9040-9cee-4ead-8d7a-780600f542f7  base  supported\n",
            "spark-mllib_3.0-py38             9f7a8fc1-4d3c-5e65-ab90-41fa8de2d418  base  unsupported         spark-mllib_3.3\n",
            "autoai-tsad_rt22.2-py3.10        a1380ce0-5d3c-59ca-9b44-d6bf0739838a  base  supported\n",
            "autoai-kb_3.3-py3.7              a545cca3-02df-5c61-9e88-998b09dc79af  base  unsupported         autoai-kb_rt22.2-py3.10\n",
            "spark-mllib_3.0-py39             a6082a27-5acc-5163-b02c-6b96916eb5e0  base  unsupported         spark-mllib_3.3\n",
            "runtime-22.1-py3.9-do            a7e7dbf1-1d03-5544-994d-e5ec845ce99a  base  not_provided\n",
            "default_py3.8                    ab9e1b80-f2ce-592c-a7d2-4f2344f77194  base  unsupported         runtime-22.2-py3.10\n",
            "tensorflow_rt22.1-py3.9          acd9c798-6974-5d2f-a657-ce06e986df4d  base  create-unsupported  tensorflow_rt22.2-py3.10\n",
            "kernel-spark3.2-py3.9            ad7033ee-794e-58cf-812e-a95f4b64b207  base  not_provided\n",
            "autoai-obm_2.0 with Spark 3.0    af10f35f-69fa-5d66-9bf5-acb58434263a  base  unsupported         autoai-obm_3.2\n",
            "autoai-kb_rt23.1-py3.10          b4246d87-d8b3-5621-9fea-76a8ea452616  base  not_provided\n",
            "runtime-22.2-py3.10              b56101f1-309d-549b-a849-eaa63f77b2fb  base  supported\n",
            "default_py3.7_opence             c2057dd4-f42c-5f77-a02f-72bdbd3282c9  base  unsupported         runtime-22.2-py3.10\n",
            "tensorflow_2.1-py3.7             c4032338-2a40-500a-beef-b01ab2667e27  base  unsupported         pytorch-onnx_rt22.2-py3.10\n",
            "do_py3.7_opence                  cc8f8976-b74a-551a-bb66-6377f8d865b4  base  not_provided\n",
            "autoai-tsad_rt23.1-py3.10        cd3c730f-bc13-594f-9510-002634662e8b  base  not_provided\n",
            "spark-mllib_3.3                  d11f2434-4fc7-58b7-8a62-755da64fdaf8  base  supported\n",
            "autoai-kb_3.0-py3.6              d139f196-e04b-5d8b-9140-9a10ca1fa91a  base  unsupported         autoai-kb_rt22.2-py3.10\n",
            "spark-mllib_3.0-py36             d82546d5-dd78-5fbb-9131-2ec309bc56ed  base  unsupported         spark-mllib_3.3\n",
            "autoai-kb_3.4-py3.8              da9b39c3-758c-5a4f-9cfd-457dd4d8c395  base  unsupported         autoai-kb_rt22.2-py3.10\n",
            "kernel-spark3.2-r3.6             db2fe4d6-d641-5d05-9972-73c654c60e0a  base  not_provided\n",
            "autoai-kb_rt22.1-py3.9           db6afe93-665f-5910-b117-d879897404d9  base  create-unsupported  autoai-kb_rt22.2-py3.10\n",
            "tensorflow_rt22.1-py3.9-horovod  dda170cc-ca67-5da7-9b7a-cf84c6987fae  base  create-unsupported  tensorflow_rt22.2-py3.10\n",
            "autoai-ts_1.0-py3.7              deef04f0-0c42-5147-9711-89f9904299db  base  unsupported         autoai-ts_rt22.2-py3.10\n",
            "tensorflow_2.1-py3.7-horovod     e384fce5-fdd1-53f8-bc71-11326c9c635f  base  unsupported         tensorflow_rt22.2-py3.10\n",
            "default_py3.7                    e4429883-c883-42b6-87a8-f419d64088cd  base  unsupported         runtime-22.2-py3.10\n",
            "do_22.1                          e51999ba-6452-5f1f-8287-17228b88b652  base  supported\n",
            "autoai-obm_3.2                   eae86aab-da30-5229-a6a6-1d0d4e368983  base  unsupported\n",
            "runtime-22.2-r4.2                ec0a3d28-08f7-556c-9674-ca7c2dba30bd  base  supported\n",
            "tensorflow_rt22.2-py3.10         f65bd165-f057-55de-b5cb-f97cf2c0f393  base  supported\n",
            "do_20.1                          f686cdd9-7904-5f9d-a732-01b0d6b10dc5  base  supported\n",
            "scikit-learn_0.19-py3.6          f963fa9d-4bb7-5652-9c5d-8d9289ef6ad9  base  unsupported         runtime-22.2-py3.10\n",
            "tensorflow_2.4-py3.8             fe185c44-9a99-5425-986b-59bd1d2eda46  base  unsupported         tensorflow_rt22.2-py3.10\n",
            "-------------------------------  ------------------------------------  ----  ------------------  --------------------------\n"
          ]
        },
        {
          "output_type": "execute_result",
          "data": {
            "text/plain": [
              "                           NAME                                    ID  TYPE  \\\n",
              "0                 default_py3.6  0062b8c9-8b7d-44a0-a9b9-46c416adcbd9  base   \n",
              "1       autoai-ts_rt23.1-py3.10  01ce9391-1a79-5a33-94fb-2e134337f314  base   \n",
              "2     kernel-spark3.2-scala2.12  020d69ce-7ac1-5e68-ac1a-31189867356a  base   \n",
              "3    pytorch-onnx_1.3-py3.7-edt  069ea134-3346-5748-b513-49120e15d288  base   \n",
              "4      tensorflow_rt23.1-py3.10  079a91e0-245f-5269-8926-3c20b28f37dc  base   \n",
              "..                          ...                                   ...   ...   \n",
              "103           runtime-22.2-r4.2  ec0a3d28-08f7-556c-9674-ca7c2dba30bd  base   \n",
              "104    tensorflow_rt22.2-py3.10  f65bd165-f057-55de-b5cb-f97cf2c0f393  base   \n",
              "105                     do_20.1  f686cdd9-7904-5f9d-a732-01b0d6b10dc5  base   \n",
              "106     scikit-learn_0.19-py3.6  f963fa9d-4bb7-5652-9c5d-8d9289ef6ad9  base   \n",
              "107        tensorflow_2.4-py3.8  fe185c44-9a99-5425-986b-59bd1d2eda46  base   \n",
              "\n",
              "            STATE               REPLACEMENT  \n",
              "0     unsupported       runtime-22.2-py3.10  \n",
              "1    not_provided                            \n",
              "2    not_provided                            \n",
              "3    not_provided                            \n",
              "4    not_provided                            \n",
              "..            ...                       ...  \n",
              "103     supported                            \n",
              "104     supported                            \n",
              "105     supported                            \n",
              "106   unsupported       runtime-22.2-py3.10  \n",
              "107   unsupported  tensorflow_rt22.2-py3.10  \n",
              "\n",
              "[108 rows x 5 columns]"
            ],
            "text/html": [
              "\n",
              "  <div id=\"df-c154ba21-67c9-4130-aaba-305042ef06fc\">\n",
              "    <div class=\"colab-df-container\">\n",
              "      <div>\n",
              "<style scoped>\n",
              "    .dataframe tbody tr th:only-of-type {\n",
              "        vertical-align: middle;\n",
              "    }\n",
              "\n",
              "    .dataframe tbody tr th {\n",
              "        vertical-align: top;\n",
              "    }\n",
              "\n",
              "    .dataframe thead th {\n",
              "        text-align: right;\n",
              "    }\n",
              "</style>\n",
              "<table border=\"1\" class=\"dataframe\">\n",
              "  <thead>\n",
              "    <tr style=\"text-align: right;\">\n",
              "      <th></th>\n",
              "      <th>NAME</th>\n",
              "      <th>ID</th>\n",
              "      <th>TYPE</th>\n",
              "      <th>STATE</th>\n",
              "      <th>REPLACEMENT</th>\n",
              "    </tr>\n",
              "  </thead>\n",
              "  <tbody>\n",
              "    <tr>\n",
              "      <th>0</th>\n",
              "      <td>default_py3.6</td>\n",
              "      <td>0062b8c9-8b7d-44a0-a9b9-46c416adcbd9</td>\n",
              "      <td>base</td>\n",
              "      <td>unsupported</td>\n",
              "      <td>runtime-22.2-py3.10</td>\n",
              "    </tr>\n",
              "    <tr>\n",
              "      <th>1</th>\n",
              "      <td>autoai-ts_rt23.1-py3.10</td>\n",
              "      <td>01ce9391-1a79-5a33-94fb-2e134337f314</td>\n",
              "      <td>base</td>\n",
              "      <td>not_provided</td>\n",
              "      <td></td>\n",
              "    </tr>\n",
              "    <tr>\n",
              "      <th>2</th>\n",
              "      <td>kernel-spark3.2-scala2.12</td>\n",
              "      <td>020d69ce-7ac1-5e68-ac1a-31189867356a</td>\n",
              "      <td>base</td>\n",
              "      <td>not_provided</td>\n",
              "      <td></td>\n",
              "    </tr>\n",
              "    <tr>\n",
              "      <th>3</th>\n",
              "      <td>pytorch-onnx_1.3-py3.7-edt</td>\n",
              "      <td>069ea134-3346-5748-b513-49120e15d288</td>\n",
              "      <td>base</td>\n",
              "      <td>not_provided</td>\n",
              "      <td></td>\n",
              "    </tr>\n",
              "    <tr>\n",
              "      <th>4</th>\n",
              "      <td>tensorflow_rt23.1-py3.10</td>\n",
              "      <td>079a91e0-245f-5269-8926-3c20b28f37dc</td>\n",
              "      <td>base</td>\n",
              "      <td>not_provided</td>\n",
              "      <td></td>\n",
              "    </tr>\n",
              "    <tr>\n",
              "      <th>...</th>\n",
              "      <td>...</td>\n",
              "      <td>...</td>\n",
              "      <td>...</td>\n",
              "      <td>...</td>\n",
              "      <td>...</td>\n",
              "    </tr>\n",
              "    <tr>\n",
              "      <th>103</th>\n",
              "      <td>runtime-22.2-r4.2</td>\n",
              "      <td>ec0a3d28-08f7-556c-9674-ca7c2dba30bd</td>\n",
              "      <td>base</td>\n",
              "      <td>supported</td>\n",
              "      <td></td>\n",
              "    </tr>\n",
              "    <tr>\n",
              "      <th>104</th>\n",
              "      <td>tensorflow_rt22.2-py3.10</td>\n",
              "      <td>f65bd165-f057-55de-b5cb-f97cf2c0f393</td>\n",
              "      <td>base</td>\n",
              "      <td>supported</td>\n",
              "      <td></td>\n",
              "    </tr>\n",
              "    <tr>\n",
              "      <th>105</th>\n",
              "      <td>do_20.1</td>\n",
              "      <td>f686cdd9-7904-5f9d-a732-01b0d6b10dc5</td>\n",
              "      <td>base</td>\n",
              "      <td>supported</td>\n",
              "      <td></td>\n",
              "    </tr>\n",
              "    <tr>\n",
              "      <th>106</th>\n",
              "      <td>scikit-learn_0.19-py3.6</td>\n",
              "      <td>f963fa9d-4bb7-5652-9c5d-8d9289ef6ad9</td>\n",
              "      <td>base</td>\n",
              "      <td>unsupported</td>\n",
              "      <td>runtime-22.2-py3.10</td>\n",
              "    </tr>\n",
              "    <tr>\n",
              "      <th>107</th>\n",
              "      <td>tensorflow_2.4-py3.8</td>\n",
              "      <td>fe185c44-9a99-5425-986b-59bd1d2eda46</td>\n",
              "      <td>base</td>\n",
              "      <td>unsupported</td>\n",
              "      <td>tensorflow_rt22.2-py3.10</td>\n",
              "    </tr>\n",
              "  </tbody>\n",
              "</table>\n",
              "<p>108 rows × 5 columns</p>\n",
              "</div>\n",
              "      <button class=\"colab-df-convert\" onclick=\"convertToInteractive('df-c154ba21-67c9-4130-aaba-305042ef06fc')\"\n",
              "              title=\"Convert this dataframe to an interactive table.\"\n",
              "              style=\"display:none;\">\n",
              "        \n",
              "  <svg xmlns=\"http://www.w3.org/2000/svg\" height=\"24px\"viewBox=\"0 0 24 24\"\n",
              "       width=\"24px\">\n",
              "    <path d=\"M0 0h24v24H0V0z\" fill=\"none\"/>\n",
              "    <path d=\"M18.56 5.44l.94 2.06.94-2.06 2.06-.94-2.06-.94-.94-2.06-.94 2.06-2.06.94zm-11 1L8.5 8.5l.94-2.06 2.06-.94-2.06-.94L8.5 2.5l-.94 2.06-2.06.94zm10 10l.94 2.06.94-2.06 2.06-.94-2.06-.94-.94-2.06-.94 2.06-2.06.94z\"/><path d=\"M17.41 7.96l-1.37-1.37c-.4-.4-.92-.59-1.43-.59-.52 0-1.04.2-1.43.59L10.3 9.45l-7.72 7.72c-.78.78-.78 2.05 0 2.83L4 21.41c.39.39.9.59 1.41.59.51 0 1.02-.2 1.41-.59l7.78-7.78 2.81-2.81c.8-.78.8-2.07 0-2.86zM5.41 20L4 18.59l7.72-7.72 1.47 1.35L5.41 20z\"/>\n",
              "  </svg>\n",
              "      </button>\n",
              "      \n",
              "  <style>\n",
              "    .colab-df-container {\n",
              "      display:flex;\n",
              "      flex-wrap:wrap;\n",
              "      gap: 12px;\n",
              "    }\n",
              "\n",
              "    .colab-df-convert {\n",
              "      background-color: #E8F0FE;\n",
              "      border: none;\n",
              "      border-radius: 50%;\n",
              "      cursor: pointer;\n",
              "      display: none;\n",
              "      fill: #1967D2;\n",
              "      height: 32px;\n",
              "      padding: 0 0 0 0;\n",
              "      width: 32px;\n",
              "    }\n",
              "\n",
              "    .colab-df-convert:hover {\n",
              "      background-color: #E2EBFA;\n",
              "      box-shadow: 0px 1px 2px rgba(60, 64, 67, 0.3), 0px 1px 3px 1px rgba(60, 64, 67, 0.15);\n",
              "      fill: #174EA6;\n",
              "    }\n",
              "\n",
              "    [theme=dark] .colab-df-convert {\n",
              "      background-color: #3B4455;\n",
              "      fill: #D2E3FC;\n",
              "    }\n",
              "\n",
              "    [theme=dark] .colab-df-convert:hover {\n",
              "      background-color: #434B5C;\n",
              "      box-shadow: 0px 1px 3px 1px rgba(0, 0, 0, 0.15);\n",
              "      filter: drop-shadow(0px 1px 2px rgba(0, 0, 0, 0.3));\n",
              "      fill: #FFFFFF;\n",
              "    }\n",
              "  </style>\n",
              "\n",
              "      <script>\n",
              "        const buttonEl =\n",
              "          document.querySelector('#df-c154ba21-67c9-4130-aaba-305042ef06fc button.colab-df-convert');\n",
              "        buttonEl.style.display =\n",
              "          google.colab.kernel.accessAllowed ? 'block' : 'none';\n",
              "\n",
              "        async function convertToInteractive(key) {\n",
              "          const element = document.querySelector('#df-c154ba21-67c9-4130-aaba-305042ef06fc');\n",
              "          const dataTable =\n",
              "            await google.colab.kernel.invokeFunction('convertToInteractive',\n",
              "                                                     [key], {});\n",
              "          if (!dataTable) return;\n",
              "\n",
              "          const docLinkHtml = 'Like what you see? Visit the ' +\n",
              "            '<a target=\"_blank\" href=https://colab.research.google.com/notebooks/data_table.ipynb>data table notebook</a>'\n",
              "            + ' to learn more about interactive tables.';\n",
              "          element.innerHTML = '';\n",
              "          dataTable['output_type'] = 'display_data';\n",
              "          await google.colab.output.renderOutput(dataTable, element);\n",
              "          const docLink = document.createElement('div');\n",
              "          docLink.innerHTML = docLinkHtml;\n",
              "          element.appendChild(docLink);\n",
              "        }\n",
              "      </script>\n",
              "    </div>\n",
              "  </div>\n",
              "  "
            ]
          },
          "metadata": {},
          "execution_count": 63
        }
      ]
    },
    {
      "cell_type": "code",
      "source": [
        "software_space_uid = client.software_specifications.get_uid_by_name(\"tensorflow_rt22.2-py3.10\")\n",
        "software_space_uid\n",
        " "
      ],
      "metadata": {
        "colab": {
          "base_uri": "https://localhost:8080/",
          "height": 35
        },
        "id": "9BdMCesHUskO",
        "outputId": "01329d15-9a68-4626-f451-a549dc892d4e"
      },
      "execution_count": 91,
      "outputs": [
        {
          "output_type": "execute_result",
          "data": {
            "text/plain": [
              "'f65bd165-f057-55de-b5cb-f97cf2c0f393'"
            ],
            "application/vnd.google.colaboratory.intrinsic+json": {
              "type": "string"
            }
          },
          "metadata": {},
          "execution_count": 91
        }
      ]
    },
    {
      "cell_type": "code",
      "source": [
        "!pip install tensorflow"
      ],
      "metadata": {
        "colab": {
          "base_uri": "https://localhost:8080/"
        },
        "id": "t7fnj1Ski3Z-",
        "outputId": "229cc94f-8810-47f4-d535-6891e5268939"
      },
      "execution_count": 83,
      "outputs": [
        {
          "output_type": "stream",
          "name": "stdout",
          "text": [
            "Looking in indexes: https://pypi.org/simple, https://us-python.pkg.dev/colab-wheels/public/simple/\n",
            "Requirement already satisfied: tensorflow in /usr/local/lib/python3.10/dist-packages (2.12.0)\n",
            "Requirement already satisfied: absl-py>=1.0.0 in /usr/local/lib/python3.10/dist-packages (from tensorflow) (1.4.0)\n",
            "Requirement already satisfied: astunparse>=1.6.0 in /usr/local/lib/python3.10/dist-packages (from tensorflow) (1.6.3)\n",
            "Requirement already satisfied: flatbuffers>=2.0 in /usr/local/lib/python3.10/dist-packages (from tensorflow) (23.3.3)\n",
            "Requirement already satisfied: gast<=0.4.0,>=0.2.1 in /usr/local/lib/python3.10/dist-packages (from tensorflow) (0.4.0)\n",
            "Requirement already satisfied: google-pasta>=0.1.1 in /usr/local/lib/python3.10/dist-packages (from tensorflow) (0.2.0)\n",
            "Requirement already satisfied: grpcio<2.0,>=1.24.3 in /usr/local/lib/python3.10/dist-packages (from tensorflow) (1.54.0)\n",
            "Requirement already satisfied: h5py>=2.9.0 in /usr/local/lib/python3.10/dist-packages (from tensorflow) (3.8.0)\n",
            "Requirement already satisfied: jax>=0.3.15 in /usr/local/lib/python3.10/dist-packages (from tensorflow) (0.4.8)\n",
            "Requirement already satisfied: keras<2.13,>=2.12.0 in /usr/local/lib/python3.10/dist-packages (from tensorflow) (2.12.0)\n",
            "Requirement already satisfied: libclang>=13.0.0 in /usr/local/lib/python3.10/dist-packages (from tensorflow) (16.0.0)\n",
            "Requirement already satisfied: numpy<1.24,>=1.22 in /usr/local/lib/python3.10/dist-packages (from tensorflow) (1.22.4)\n",
            "Requirement already satisfied: opt-einsum>=2.3.2 in /usr/local/lib/python3.10/dist-packages (from tensorflow) (3.3.0)\n",
            "Requirement already satisfied: packaging in /usr/local/lib/python3.10/dist-packages (from tensorflow) (23.1)\n",
            "Requirement already satisfied: protobuf!=4.21.0,!=4.21.1,!=4.21.2,!=4.21.3,!=4.21.4,!=4.21.5,<5.0.0dev,>=3.20.3 in /usr/local/lib/python3.10/dist-packages (from tensorflow) (3.20.3)\n",
            "Requirement already satisfied: setuptools in /usr/local/lib/python3.10/dist-packages (from tensorflow) (67.7.2)\n",
            "Requirement already satisfied: six>=1.12.0 in /usr/local/lib/python3.10/dist-packages (from tensorflow) (1.16.0)\n",
            "Requirement already satisfied: tensorboard<2.13,>=2.12 in /usr/local/lib/python3.10/dist-packages (from tensorflow) (2.12.2)\n",
            "Requirement already satisfied: tensorflow-estimator<2.13,>=2.12.0 in /usr/local/lib/python3.10/dist-packages (from tensorflow) (2.12.0)\n",
            "Requirement already satisfied: termcolor>=1.1.0 in /usr/local/lib/python3.10/dist-packages (from tensorflow) (2.3.0)\n",
            "Requirement already satisfied: typing-extensions>=3.6.6 in /usr/local/lib/python3.10/dist-packages (from tensorflow) (4.5.0)\n",
            "Requirement already satisfied: wrapt<1.15,>=1.11.0 in /usr/local/lib/python3.10/dist-packages (from tensorflow) (1.14.1)\n",
            "Requirement already satisfied: tensorflow-io-gcs-filesystem>=0.23.1 in /usr/local/lib/python3.10/dist-packages (from tensorflow) (0.32.0)\n",
            "Requirement already satisfied: wheel<1.0,>=0.23.0 in /usr/local/lib/python3.10/dist-packages (from astunparse>=1.6.0->tensorflow) (0.40.0)\n",
            "Requirement already satisfied: ml-dtypes>=0.0.3 in /usr/local/lib/python3.10/dist-packages (from jax>=0.3.15->tensorflow) (0.1.0)\n",
            "Requirement already satisfied: scipy>=1.7 in /usr/local/lib/python3.10/dist-packages (from jax>=0.3.15->tensorflow) (1.10.1)\n",
            "Requirement already satisfied: google-auth<3,>=1.6.3 in /usr/local/lib/python3.10/dist-packages (from tensorboard<2.13,>=2.12->tensorflow) (2.17.3)\n",
            "Requirement already satisfied: google-auth-oauthlib<1.1,>=0.5 in /usr/local/lib/python3.10/dist-packages (from tensorboard<2.13,>=2.12->tensorflow) (1.0.0)\n",
            "Requirement already satisfied: markdown>=2.6.8 in /usr/local/lib/python3.10/dist-packages (from tensorboard<2.13,>=2.12->tensorflow) (3.4.3)\n",
            "Requirement already satisfied: requests<3,>=2.21.0 in /usr/local/lib/python3.10/dist-packages (from tensorboard<2.13,>=2.12->tensorflow) (2.30.0)\n",
            "Requirement already satisfied: tensorboard-data-server<0.8.0,>=0.7.0 in /usr/local/lib/python3.10/dist-packages (from tensorboard<2.13,>=2.12->tensorflow) (0.7.0)\n",
            "Requirement already satisfied: tensorboard-plugin-wit>=1.6.0 in /usr/local/lib/python3.10/dist-packages (from tensorboard<2.13,>=2.12->tensorflow) (1.8.1)\n",
            "Requirement already satisfied: werkzeug>=1.0.1 in /usr/local/lib/python3.10/dist-packages (from tensorboard<2.13,>=2.12->tensorflow) (2.3.0)\n",
            "Requirement already satisfied: cachetools<6.0,>=2.0.0 in /usr/local/lib/python3.10/dist-packages (from google-auth<3,>=1.6.3->tensorboard<2.13,>=2.12->tensorflow) (5.3.0)\n",
            "Requirement already satisfied: pyasn1-modules>=0.2.1 in /usr/local/lib/python3.10/dist-packages (from google-auth<3,>=1.6.3->tensorboard<2.13,>=2.12->tensorflow) (0.3.0)\n",
            "Requirement already satisfied: rsa<5,>=3.1.4 in /usr/local/lib/python3.10/dist-packages (from google-auth<3,>=1.6.3->tensorboard<2.13,>=2.12->tensorflow) (4.9)\n",
            "Requirement already satisfied: requests-oauthlib>=0.7.0 in /usr/local/lib/python3.10/dist-packages (from google-auth-oauthlib<1.1,>=0.5->tensorboard<2.13,>=2.12->tensorflow) (1.3.1)\n",
            "Requirement already satisfied: charset-normalizer<4,>=2 in /usr/local/lib/python3.10/dist-packages (from requests<3,>=2.21.0->tensorboard<2.13,>=2.12->tensorflow) (2.0.12)\n",
            "Requirement already satisfied: idna<4,>=2.5 in /usr/local/lib/python3.10/dist-packages (from requests<3,>=2.21.0->tensorboard<2.13,>=2.12->tensorflow) (3.4)\n",
            "Requirement already satisfied: urllib3<3,>=1.21.1 in /usr/local/lib/python3.10/dist-packages (from requests<3,>=2.21.0->tensorboard<2.13,>=2.12->tensorflow) (1.26.15)\n",
            "Requirement already satisfied: certifi>=2017.4.17 in /usr/local/lib/python3.10/dist-packages (from requests<3,>=2.21.0->tensorboard<2.13,>=2.12->tensorflow) (2022.12.7)\n",
            "Requirement already satisfied: MarkupSafe>=2.1.1 in /usr/local/lib/python3.10/dist-packages (from werkzeug>=1.0.1->tensorboard<2.13,>=2.12->tensorflow) (2.1.2)\n",
            "Requirement already satisfied: pyasn1<0.6.0,>=0.4.6 in /usr/local/lib/python3.10/dist-packages (from pyasn1-modules>=0.2.1->google-auth<3,>=1.6.3->tensorboard<2.13,>=2.12->tensorflow) (0.5.0)\n",
            "Requirement already satisfied: oauthlib>=3.0.0 in /usr/local/lib/python3.10/dist-packages (from requests-oauthlib>=0.7.0->google-auth-oauthlib<1.1,>=0.5->tensorboard<2.13,>=2.12->tensorflow) (3.2.2)\n"
          ]
        }
      ]
    },
    {
      "cell_type": "code",
      "source": [
        "import tensorflow as tf\n",
        "tf.__version__"
      ],
      "metadata": {
        "colab": {
          "base_uri": "https://localhost:8080/",
          "height": 35
        },
        "id": "qsU4E4CLi3fs",
        "outputId": "b7a3b8af-1e25-4ee4-d9f3-e5be46f466c5"
      },
      "execution_count": 84,
      "outputs": [
        {
          "output_type": "execute_result",
          "data": {
            "text/plain": [
              "'2.12.0'"
            ],
            "application/vnd.google.colaboratory.intrinsic+json": {
              "type": "string"
            }
          },
          "metadata": {},
          "execution_count": 84
        }
      ]
    },
    {
      "cell_type": "code",
      "source": [
        "ls"
      ],
      "metadata": {
        "colab": {
          "base_uri": "https://localhost:8080/"
        },
        "id": "LphiaRFqVTmQ",
        "outputId": "91529275-fde3-4a9e-f969-373dd340e16c"
      },
      "execution_count": 85,
      "outputs": [
        {
          "output_type": "stream",
          "name": "stdout",
          "text": [
            "ibm_covid_prediction.tgz  Untitled0.ipynb  xception_covid.h5\n"
          ]
        }
      ]
    },
    {
      "cell_type": "code",
      "source": [
        "model = client.repository.store_model(model=\"ibm_covid_prediction.tgz\",\n",
        "                                      meta_props={\n",
        "    client.repository.ModelMetaNames.NAME:\"covid_prediction\",\n",
        "    client.repository.ModelMetaNames.TYPE:\"tensorflow_2.9\",\n",
        "    client.repository.ModelMetaNames.SOFTWARE_SPEC_UID:software_space_uid})\n",
        "     "
      ],
      "metadata": {
        "id": "Tvjr7P_KVsuL"
      },
      "execution_count": 92,
      "outputs": []
    },
    {
      "cell_type": "code",
      "source": [
        "model"
      ],
      "metadata": {
        "colab": {
          "base_uri": "https://localhost:8080/"
        },
        "id": "yhTGcioMny3c",
        "outputId": "6966776e-6ba4-4719-f85d-2d86bfcec1c2"
      },
      "execution_count": 93,
      "outputs": [
        {
          "output_type": "execute_result",
          "data": {
            "text/plain": [
              "{'entity': {'hybrid_pipeline_software_specs': [],\n",
              "  'software_spec': {'id': 'f65bd165-f057-55de-b5cb-f97cf2c0f393',\n",
              "   'name': 'tensorflow_rt22.2-py3.10'},\n",
              "  'type': 'tensorflow_2.9'},\n",
              " 'metadata': {'created_at': '2023-05-20T10:04:02.424Z',\n",
              "  'id': '22f3bc04-9c71-42cd-8433-1d786f45766d',\n",
              "  'modified_at': '2023-05-20T10:04:17.477Z',\n",
              "  'name': 'covid_prediction',\n",
              "  'owner': 'IBMid-6650032SQ9',\n",
              "  'resource_key': 'ed9e6121-2a49-4d6f-8b89-689cbe68d3fd',\n",
              "  'space_id': '7fa55e43-82b9-4412-8b74-6abc70fc3aec'},\n",
              " 'system': {'warnings': []}}"
            ]
          },
          "metadata": {},
          "execution_count": 93
        }
      ]
    },
    {
      "cell_type": "code",
      "source": [
        "model_id = client.repository.get_model_id(model)\n",
        "model_id"
      ],
      "metadata": {
        "colab": {
          "base_uri": "https://localhost:8080/",
          "height": 35
        },
        "id": "y0-98FkhYluS",
        "outputId": "f3c8b3ff-3c16-4bd4-a235-95c211f43432"
      },
      "execution_count": 94,
      "outputs": [
        {
          "output_type": "execute_result",
          "data": {
            "text/plain": [
              "'22f3bc04-9c71-42cd-8433-1d786f45766d'"
            ],
            "application/vnd.google.colaboratory.intrinsic+json": {
              "type": "string"
            }
          },
          "metadata": {},
          "execution_count": 94
        }
      ]
    },
    {
      "cell_type": "code",
      "source": [
        "client.repository.download(model_id,'xception_covid.tgz')"
      ],
      "metadata": {
        "colab": {
          "base_uri": "https://localhost:8080/",
          "height": 52
        },
        "id": "g_IwrP-4lJs7",
        "outputId": "813e3496-4d46-4248-e846-2b9a8af000fd"
      },
      "execution_count": 96,
      "outputs": [
        {
          "output_type": "stream",
          "name": "stdout",
          "text": [
            "Successfully saved model content to file: 'xception_covid.tgz'\n"
          ]
        },
        {
          "output_type": "execute_result",
          "data": {
            "text/plain": [
              "'/content/drive/MyDrive/BL/xception_covid.tgz'"
            ],
            "application/vnd.google.colaboratory.intrinsic+json": {
              "type": "string"
            }
          },
          "metadata": {},
          "execution_count": 96
        }
      ]
    },
    {
      "cell_type": "code",
      "source": [],
      "metadata": {
        "id": "nqOI2eIqn43a"
      },
      "execution_count": null,
      "outputs": []
    }
  ]
}